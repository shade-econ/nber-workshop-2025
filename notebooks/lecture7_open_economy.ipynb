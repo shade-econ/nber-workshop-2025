{
 "cells": [
  {
   "cell_type": "markdown",
   "source": [
    "# Open economy HANK"
   ],
   "metadata": {
    "collapsed": false
   },
   "id": "2fb8798a4d1eaded"
  },
  {
   "cell_type": "code",
   "outputs": [],
   "source": [
    "import numpy as np\n",
    "import matplotlib.pyplot as plt\n",
    "from scipy import optimize\n",
    "import json\n",
    "import sequence_jacobian as sj"
   ],
   "metadata": {
    "collapsed": false,
    "ExecuteTime": {
     "end_time": "2025-06-05T15:42:29.382454Z",
     "start_time": "2025-06-05T15:42:28.471525Z"
    }
   },
   "id": "a7b98083820324e7",
   "execution_count": 1
  },
  {
   "cell_type": "code",
   "outputs": [],
   "source": [
    "plt.rcParams.update({'font.size': 10, 'font.family': 'serif', 'figure.figsize': (6, 3)})\n",
    "plt.rcParams.update({'text.usetex': True, 'font.serif': 'Palatino'})"
   ],
   "metadata": {
    "collapsed": false,
    "ExecuteTime": {
     "end_time": "2025-06-05T15:42:29.387298Z",
     "start_time": "2025-06-05T15:42:29.383074Z"
    }
   },
   "id": "316517ae87809f93",
   "execution_count": 2
  },
  {
   "cell_type": "code",
   "outputs": [],
   "source": [
    "from household import hh, calibration\n",
    "hh = hh.remap({'r': 'rp'})\n",
    "calibration['rp'] = calibration['r']"
   ],
   "metadata": {
    "collapsed": false,
    "ExecuteTime": {
     "end_time": "2025-06-05T15:42:29.391509Z",
     "start_time": "2025-06-05T15:42:29.385703Z"
    }
   },
   "id": "618632fa982c2ca9",
   "execution_count": 3
  },
  {
   "cell_type": "code",
   "outputs": [],
   "source": [
    "# Compute steady state\n",
    "ss = hh.steady_state(calibration)"
   ],
   "metadata": {
    "collapsed": false,
    "ExecuteTime": {
     "end_time": "2025-06-05T15:42:31.075253Z",
     "start_time": "2025-06-05T15:42:29.391466Z"
    }
   },
   "id": "ea2a95ca01ec5359",
   "execution_count": 4
  },
  {
   "cell_type": "code",
   "outputs": [],
   "source": [
    "# time horizon used here\n",
    "T = 400"
   ],
   "metadata": {
    "collapsed": false,
    "ExecuteTime": {
     "end_time": "2025-06-05T15:42:31.116011Z",
     "start_time": "2025-06-05T15:42:31.088852Z"
    }
   },
   "id": "34e4bc2a6f9aac45",
   "execution_count": 5
  },
  {
   "cell_type": "markdown",
   "source": [
    "Add to the calibration dict"
   ],
   "metadata": {
    "collapsed": false
   },
   "id": "1a2bea811a7d96a9"
  },
  {
   "cell_type": "code",
   "outputs": [],
   "source": [
    "calibration |= {\n",
    "               'alpha': 0.4,  # home's foreign good preference, (1 - alpha) is the home's home bias\n",
    "               'alphastar': 0.4,  # foreign's home good preference, (1 - alpha_star) is the foreign's home bias\n",
    "               'eta': 1.01,  # elasticity of substitution between goods\n",
    "               'gamma': 0.394,  # elasticity of foreign demand\n",
    "               'markup_ss': 1/ss['Z'],  # steady state markup\n",
    "               'Y': 1,  # Output\n",
    "               'nfa': 0,  # net foreign assets\n",
    "               'rstar': ss['rp'],  # foreign interest rate\n",
    "               'Cstar': 1,  # foreign consumption\n",
    "               'Q': 1}  # Foreign demand"
   ],
   "metadata": {
    "collapsed": false,
    "ExecuteTime": {
     "end_time": "2025-06-05T15:42:31.129710Z",
     "start_time": "2025-06-05T15:42:31.115982Z"
    }
   },
   "id": "9f6aa58c3f87d261",
   "execution_count": 6
  },
  {
   "cell_type": "markdown",
   "source": [
    "## Set up all the blocks"
   ],
   "metadata": {
    "collapsed": false
   },
   "id": "82d5a7b8511aeecd"
  },
  {
   "cell_type": "markdown",
   "source": [
    "We'll need a few more `SimpleBlock`s.\n",
    "\n",
    "First up, a block that splits up total domestic consumption `C` into home and foreign consumption, `cH` and `cF`."
   ],
   "metadata": {
    "collapsed": false
   },
   "id": "e78cd368168a46b4"
  },
  {
   "cell_type": "code",
   "outputs": [],
   "source": [
    "@sj.simple\n",
    "def dom_demand(C, PF_P, PH_P, eta, alpha):\n",
    "    cH = (1 - alpha) * PH_P ** (-eta) * C  # PH_P is the real (in domestic cons. good units) price of the home good consumed domestically\n",
    "    cF = alpha * PF_P ** (-eta) * C  # PF_P is the real (in domestic cons. good units) price of the foreign good consumed domestically\n",
    "    return cH, cF"
   ],
   "metadata": {
    "collapsed": false,
    "ExecuteTime": {
     "end_time": "2025-06-05T15:42:31.149902Z",
     "start_time": "2025-06-05T15:42:31.134476Z"
    }
   },
   "id": "3dbe609e22fc3743",
   "execution_count": 7
  },
  {
   "cell_type": "markdown",
   "source": [
    "Next, foreign demand for home goods."
   ],
   "metadata": {
    "collapsed": false
   },
   "id": "b89aa4cd2dc1e7ad"
  },
  {
   "cell_type": "code",
   "outputs": [],
   "source": [
    "@sj.simple\n",
    "def for_demand(PHstar, alphastar, gamma, Cstar):\n",
    "    cHstar = alphastar * PHstar ** (-gamma) * Cstar  # PHstar is the real (in domestic cons. good units) price of the home good consumed abroad\n",
    "    return cHstar"
   ],
   "metadata": {
    "collapsed": false,
    "ExecuteTime": {
     "end_time": "2025-06-05T15:42:31.150497Z",
     "start_time": "2025-06-05T15:42:31.140867Z"
    }
   },
   "id": "c4a9f746b9d50bee",
   "execution_count": 8
  },
  {
   "cell_type": "markdown",
   "source": [
    "Next, a UIP block that solves for the real exchange rate `Q` as function of the interest rates. It also computes the relative prices of home and foreign goods."
   ],
   "metadata": {
    "collapsed": false
   },
   "id": "5278f89d98c221d9"
  },
  {
   "cell_type": "code",
   "outputs": [],
   "source": [
    "@sj.solved(unknowns={'Q': (0.01, 300.)}, targets=['uip'])\n",
    "def UIP(Q, r, rstar, eta, alpha, gamma):\n",
    "    # recursive equation for UIP to pin down RER Q\n",
    "    uip = 1 + r - (1 + rstar) * Q(1) / Q\n",
    "    \n",
    "    # price of H goods abroad in terms of Q\n",
    "    PHstar = ((Q ** (eta - 1) - alpha) / (1 - alpha)) ** (1 / (1 - eta))\n",
    "    \n",
    "    # price of H goods at home in terms of Q\n",
    "    PH_P = ((1 - alpha * Q ** (1 - eta)) / (1 - alpha)) ** (1 / (1 - eta))\n",
    "    \n",
    "    # price of F goods at home in terms of Q\n",
    "    PF_P = Q  # LOOP\n",
    "    \n",
    "    # let's also compute chi, as an important object in the theory\n",
    "    chi = eta * (1-alpha) + gamma\n",
    "    return uip, PHstar, PH_P, PF_P, chi"
   ],
   "metadata": {
    "collapsed": false,
    "ExecuteTime": {
     "end_time": "2025-06-05T15:42:31.151600Z",
     "start_time": "2025-06-05T15:42:31.145029Z"
    }
   },
   "id": "c8c8ab7c9e5c5f7",
   "execution_count": 9
  },
  {
   "cell_type": "markdown",
   "source": [
    "Next, a block that computes real labor income `Z`, dividends and stock valuations."
   ],
   "metadata": {
    "collapsed": false
   },
   "id": "da1208b049d80923"
  },
  {
   "cell_type": "code",
   "outputs": [],
   "source": [
    "@sj.solved(unknowns={'J': (0.001, 100.)}, targets=['valuation_cond'])\n",
    "def income(Y, PH_P, J, r, markup_ss):\n",
    "    # real labor income\n",
    "    Z = 1 / markup_ss * PH_P * Y\n",
    "    \n",
    "    # real dividend\n",
    "    div = (1 - 1 / markup_ss) * PH_P * Y   \n",
    "    \n",
    "    # nominal PPP adjusted GDP\n",
    "    gdp = PH_P * Y\n",
    "    \n",
    "    # valuation condition to price the asset\n",
    "    valuation_cond = div + J(1) / (1 + r) - J  # J = beginning of period valuation\n",
    "    j = J(1) / (1 + r)  # j = end of period valuation\n",
    "    \n",
    "    # ex post interest rate incl revaluation\n",
    "    rp = J / j(-1) - 1\n",
    "    \n",
    "    # get assets to labor income ratio (will need this to calibrate to the household block)\n",
    "    j_to_Z = j / Z\n",
    "    return j, valuation_cond, gdp, div, Z, rp, j_to_Z"
   ],
   "metadata": {
    "collapsed": false,
    "ExecuteTime": {
     "end_time": "2025-06-05T15:42:31.157904Z",
     "start_time": "2025-06-05T15:42:31.153575Z"
    }
   },
   "id": "6f2970fe802ab380",
   "execution_count": 10
  },
  {
   "cell_type": "markdown",
   "source": [
    "Next, a block that evaluates the balance of payments and computes the NFA."
   ],
   "metadata": {
    "collapsed": false
   },
   "id": "8651dd9dbcdfc6c1"
  },
  {
   "cell_type": "code",
   "outputs": [],
   "source": [
    "@sj.solved(unknowns={'nfa': (-100., 100.)}, targets=['nfa_cond'])\n",
    "def bop(nfa, PH_P, cHstar, PF_P, cF, r):\n",
    "    NX = PH_P * cHstar - PF_P * cF  # PH_P * Y - PF_P * cF - PH_P * cH\n",
    "    nfa_cond = NX + (1 + r(-1)) * nfa(-1) - nfa\n",
    "    return NX, nfa_cond"
   ],
   "metadata": {
    "collapsed": false,
    "ExecuteTime": {
     "end_time": "2025-06-05T15:42:31.162922Z",
     "start_time": "2025-06-05T15:42:31.155317Z"
    }
   },
   "id": "9becdeb5ffecda84",
   "execution_count": 11
  },
  {
   "cell_type": "markdown",
   "source": [
    "Finally, a market clearing block."
   ],
   "metadata": {
    "collapsed": false
   },
   "id": "94108d9e83416798"
  },
  {
   "cell_type": "code",
   "outputs": [],
   "source": [
    "@sj.simple\n",
    "def mkt_clearing(Y, cH, cHstar, A, nfa, j):\n",
    "    goods_mkt = cH + cHstar - Y\n",
    "    asset_mkt = A - nfa - j\n",
    "    return goods_mkt, asset_mkt"
   ],
   "metadata": {
    "collapsed": false,
    "ExecuteTime": {
     "end_time": "2025-06-05T15:42:31.175871Z",
     "start_time": "2025-06-05T15:42:31.161587Z"
    }
   },
   "id": "b92f06d4533d6b14",
   "execution_count": 12
  },
  {
   "cell_type": "markdown",
   "source": [
    "With that, we are ready to define the model."
   ],
   "metadata": {
    "collapsed": false
   },
   "id": "d6a83dd1235cb30a"
  },
  {
   "cell_type": "code",
   "outputs": [],
   "source": [
    "ha = sj.create_model([UIP, income, hh, dom_demand, for_demand, bop,  mkt_clearing], name=\"HA Model\")"
   ],
   "metadata": {
    "collapsed": false,
    "ExecuteTime": {
     "end_time": "2025-06-05T15:42:31.176330Z",
     "start_time": "2025-06-05T15:42:31.165474Z"
    }
   },
   "id": "f234f1cd551808c5",
   "execution_count": 13
  },
  {
   "cell_type": "markdown",
   "source": [
    "Let's also set up the RA model."
   ],
   "metadata": {
    "collapsed": false
   },
   "id": "3c90fc641792c549"
  },
  {
   "cell_type": "code",
   "outputs": [],
   "source": [
    "@sj.solved(unknowns={'C': 1, 'A': 1},\n",
    "           targets=[\"euler\", \"budget_constraint\"])  # solver=\"broyden_custom\")\n",
    "def hh_ra(C, A, Z, eis, beta, rp):\n",
    "    euler = (beta * (1 + rp(+1)))**(-eis) * C(+1) - C\n",
    "    budget_constraint = (1 + rp) * A(-1) + Z - C - A\n",
    "    return euler, budget_constraint\n",
    "\n",
    "ra = sj.create_model([UIP, income, hh_ra, dom_demand, for_demand, bop,  mkt_clearing], name=\"RA model\")"
   ],
   "metadata": {
    "collapsed": false,
    "ExecuteTime": {
     "end_time": "2025-06-05T15:42:31.196102Z",
     "start_time": "2025-06-05T15:42:31.187121Z"
    }
   },
   "id": "8570fcf54e0acc80",
   "execution_count": 14
  },
  {
   "cell_type": "markdown",
   "source": [
    "## Calibrate the two models\n",
    "\n",
    "### Heterogeneous agent model"
   ],
   "metadata": {
    "collapsed": false
   },
   "id": "30eb923d5afff92a"
  },
  {
   "cell_type": "markdown",
   "source": [
    "We want to reuse the same steady state for the household from before. "
   ],
   "metadata": {
    "collapsed": false
   },
   "id": "3e1e71a4925f8607"
  },
  {
   "cell_type": "markdown",
   "source": [
    "First, we need to find the right markups. We want to choose markups such that the asset to labor income ratio in the household block is the same as in the steady state."
   ],
   "metadata": {
    "collapsed": false
   },
   "id": "ad439db6b23348a0"
  },
  {
   "cell_type": "code",
   "outputs": [],
   "source": [
    "# get the asset to labor income ratio from the household block\n",
    "A_to_Z = ss['A'] / ss['Z']\n",
    "\n",
    "# find the markup_ss that j / Z is the same\n",
    "income_ss = income.solve_steady_state({**ss, 'PH_P': 1, 'r': ss['rp'], 'Y': 1}, unknowns={'markup_ss': (1.01, 1.5)},targets={'j_to_Z': A_to_Z})\n",
    "\n",
    "calibration['markup_ss'] = income_ss['markup_ss'] "
   ],
   "metadata": {
    "collapsed": false,
    "ExecuteTime": {
     "end_time": "2025-06-05T15:42:31.196722Z",
     "start_time": "2025-06-05T15:42:31.188896Z"
    }
   },
   "id": "5d60ade16cc3f5f9",
   "execution_count": 15
  },
  {
   "cell_type": "markdown",
   "source": [
    "Now, we can run the steady state. Note: we need to undo the UIP `SolvedBlock` to avoid erros here because you can't solve the UIP equation in the steady state for `Q` ! (`Q` drops out of the equation!) We do the same for `bop` but there it's not strictly necessary. Just for numerical purposes."
   ],
   "metadata": {
    "collapsed": false
   },
   "id": "fae7490feacbeac7"
  },
  {
   "cell_type": "code",
   "outputs": [],
   "source": [
    "ss_ha = ha.steady_state(calibration, dissolve=['UIP', 'bop'])"
   ],
   "metadata": {
    "collapsed": false,
    "ExecuteTime": {
     "end_time": "2025-06-05T15:42:32.374474Z",
     "start_time": "2025-06-05T15:42:31.197493Z"
    }
   },
   "id": "858e8e7481ea5ca9",
   "execution_count": 16
  },
  {
   "cell_type": "markdown",
   "source": [
    "We should be pretty close for market clearing conditions."
   ],
   "metadata": {
    "collapsed": false
   },
   "id": "b0cb3d72a1e8604d"
  },
  {
   "cell_type": "code",
   "outputs": [
    {
     "data": {
      "text/plain": "(6.9166073428661434e-06, 0.0022344775077840495)"
     },
     "execution_count": 17,
     "metadata": {},
     "output_type": "execute_result"
    }
   ],
   "source": [
    "ss_ha['goods_mkt'], ss_ha['asset_mkt']"
   ],
   "metadata": {
    "collapsed": false,
    "ExecuteTime": {
     "end_time": "2025-06-05T15:42:32.426303Z",
     "start_time": "2025-06-05T15:42:32.381200Z"
    }
   },
   "id": "f13ee20fb4a69435",
   "execution_count": 17
  },
  {
   "cell_type": "markdown",
   "source": [
    "Let's make sure we get it to Matt standards."
   ],
   "metadata": {
    "collapsed": false
   },
   "id": "8b6f45eab80265c4"
  },
  {
   "cell_type": "code",
   "outputs": [],
   "source": [
    "ss_ha = ha.solve_steady_state(calibration, unknowns={'beta_hi': (ss_ha['beta_hi']-1e-5, ss_ha['beta_hi'])}, targets=['asset_mkt'], dissolve=['UIP', 'bop'])"
   ],
   "metadata": {
    "collapsed": false,
    "ExecuteTime": {
     "end_time": "2025-06-05T15:42:41.935177Z",
     "start_time": "2025-06-05T15:42:32.439500Z"
    }
   },
   "id": "2acdbd128c82e12d",
   "execution_count": 18
  },
  {
   "cell_type": "markdown",
   "source": [
    "Check again:"
   ],
   "metadata": {
    "collapsed": false
   },
   "id": "2847417cb656c82f"
  },
  {
   "cell_type": "code",
   "outputs": [
    {
     "data": {
      "text/plain": "(2.2426706847156197e-07, -3.554703198460629e-10)"
     },
     "execution_count": 19,
     "metadata": {},
     "output_type": "execute_result"
    }
   ],
   "source": [
    "ss_ha['goods_mkt'], ss_ha['asset_mkt']"
   ],
   "metadata": {
    "collapsed": false,
    "ExecuteTime": {
     "end_time": "2025-06-05T15:42:41.958722Z",
     "start_time": "2025-06-05T15:42:41.942344Z"
    }
   },
   "id": "30920ac531240dde",
   "execution_count": 19
  },
  {
   "cell_type": "markdown",
   "source": [
    "Perfect, this looks great. Matt will be happy."
   ],
   "metadata": {
    "collapsed": false
   },
   "id": "b95c0e373e4330ee"
  },
  {
   "cell_type": "markdown",
   "source": [
    "Let's make sure the rest of the steady state makes sense."
   ],
   "metadata": {
    "collapsed": false
   },
   "id": "3a586b464df71d4"
  },
  {
   "cell_type": "code",
   "outputs": [],
   "source": [
    "# Make sure prices are 1 in steady state\n",
    "for var in ['PH_P', 'PF_P', 'PHstar', 'Q']:\n",
    "    assert np.isclose(ss_ha[var], 1), f\"Price {var} is not 1 in steady state, it is {ss_ha[var]}\"\n",
    "    \n",
    "# Make sure the following objects are close to zero\n",
    "for var in ['valuation_cond', 'nfa_cond', 'goods_mkt', 'asset_mkt', 'nfa', 'NX']:\n",
    "    assert np.isclose(ss_ha[var], 0, atol=1e-6), f\"Condition {var} is not zero in steady state, it is {ss_ha[var]}\""
   ],
   "metadata": {
    "collapsed": false,
    "ExecuteTime": {
     "end_time": "2025-06-05T15:42:41.988210Z",
     "start_time": "2025-06-05T15:42:41.966314Z"
    }
   },
   "id": "9ca868cf7e507b8",
   "execution_count": 20
  },
  {
   "cell_type": "markdown",
   "source": [
    "### Representative agent model"
   ],
   "metadata": {
    "collapsed": false
   },
   "id": "da7142f843101fb7"
  },
  {
   "cell_type": "markdown",
   "source": [
    "Let's move on to the representative agent model. First up, we need to explicitly set `beta` for the model. We can then use that to evaluate the RA steady state."
   ],
   "metadata": {
    "collapsed": false
   },
   "id": "cdf15682c31f7212"
  },
  {
   "cell_type": "code",
   "outputs": [],
   "source": [
    "beta = 1 / (1 + calibration['rp'])\n",
    "ss_ra = ra.steady_state({**ss_ha, 'beta': beta}, dissolve=['UIP', 'bop', 'hh_ra'])"
   ],
   "metadata": {
    "collapsed": false,
    "ExecuteTime": {
     "end_time": "2025-06-05T15:42:41.988794Z",
     "start_time": "2025-06-05T15:42:41.974090Z"
    }
   },
   "id": "85e739a85127fc8",
   "execution_count": 21
  },
  {
   "cell_type": "markdown",
   "source": [
    "Run the same checks."
   ],
   "metadata": {
    "collapsed": false
   },
   "id": "1deb4e9728bba1f5"
  },
  {
   "cell_type": "code",
   "outputs": [],
   "source": [
    "# Make sure prices are 1 in steady state\n",
    "for var in ['PH_P', 'PF_P', 'PHstar', 'Q']:\n",
    "    assert np.isclose(ss_ra[var], 1), f\"Price {var} is not 1 in steady state, it is {ss_ha[var]}\"\n",
    "    \n",
    "# Make sure the following objects are close to zero\n",
    "for var in ['valuation_cond', 'nfa_cond', 'goods_mkt', 'asset_mkt', 'nfa', 'NX']:\n",
    "    assert np.isclose(ss_ra[var], 0, atol=1e-6), f\"Condition {var} is not zero in steady state, it is {ss_ha[var]}\""
   ],
   "metadata": {
    "collapsed": false,
    "ExecuteTime": {
     "end_time": "2025-06-05T15:42:41.989204Z",
     "start_time": "2025-06-05T15:42:41.982098Z"
    }
   },
   "id": "c10ac330c3a19517",
   "execution_count": 22
  },
  {
   "cell_type": "markdown",
   "source": [
    "Looks great!"
   ],
   "metadata": {
    "collapsed": false
   },
   "id": "7d79180e3e399dc"
  },
  {
   "cell_type": "markdown",
   "source": [
    "## Foreign interest rate shocks"
   ],
   "metadata": {
    "collapsed": false
   },
   "id": "50818e67c87f2d25"
  },
  {
   "cell_type": "markdown",
   "source": [
    "We begin by plotting output and consumption in response to a foreign interest rate shock."
   ],
   "metadata": {
    "collapsed": false
   },
   "id": "19137be09a8abdd2"
  },
  {
   "cell_type": "code",
   "outputs": [],
   "source": [
    "T = 300\n",
    "\n",
    "# define shock\n",
    "drstar = 0.25 * 0.8 ** np.arange(T)  # a transitory foreign interest rate shock [normalization to get depreciation of 1%]\n",
    "shock = {'rstar': drstar}\n",
    "\n",
    "# set unknowns and targets\n",
    "unknowns_td = ['Y']\n",
    "targets_td = ['goods_mkt']"
   ],
   "metadata": {
    "collapsed": false,
    "ExecuteTime": {
     "end_time": "2025-06-05T15:42:41.996831Z",
     "start_time": "2025-06-05T15:42:41.989107Z"
    }
   },
   "id": "d0ddb42652bde754",
   "execution_count": 23
  },
  {
   "cell_type": "markdown",
   "source": [
    "Vary elasticities and plot output and consumption responses."
   ],
   "metadata": {
    "collapsed": false
   },
   "id": "e0ca31abaaf78ed5"
  },
  {
   "cell_type": "code",
   "outputs": [
    {
     "data": {
      "text/plain": "<Figure size 800x400 with 2 Axes>",
      "image/png": "[encoded data removed]"
     },
     "metadata": {},
     "output_type": "display_data"
    }
   ],
   "source": [
    "fig, axes = plt.subplots(1, 2, figsize=(8, 4), sharey=True)\n",
    "\n",
    "# get three shades of red\n",
    "colors_ra = plt.cm.Reds(np.linspace(0.4, 0.8, 3)[::-1])\n",
    "\n",
    "for i, chi in enumerate([1, 0.5, 0.05]):\n",
    "    # scale down eta and gamma so that (1-alpha) * eta + gamma = chi\n",
    "    old_chi = ss_ra['chi']\n",
    "    ss_ = ss_ra.copy()\n",
    "    ss_['eta'] = ss_ra['eta'] * chi / old_chi\n",
    "    ss_['gamma'] = ss_ra['gamma'] * chi / old_chi\n",
    "    irfs_ra = ra.solve_impulse_linear(ss_, unknowns_td, targets_td, shock)\n",
    "    \n",
    "    # Plot output (Y) on the left panel\n",
    "    axes[0].plot(irfs_ra['Y'][:30], label=f'$\\chi$ = {chi}', color=colors_ra[i])\n",
    "    \n",
    "    # Plot consumption (C) on the right panel\n",
    "    axes[1].plot(irfs_ra['C'][:30], label=f'$\\chi$ = {chi}', color=colors_ra[i])\n",
    "\n",
    "# Customize left panel (Output)\n",
    "axes[0].axhline(0, color='k', lw=0.5, ls='--')\n",
    "axes[0].set_xlabel('Quarter')\n",
    "axes[0].set_title('Output, RA')\n",
    "axes[0].set_ylabel('\\% of GDP')\n",
    "axes[0].legend(frameon=False)\n",
    "\n",
    "# Customize right panel (Consumption)\n",
    "axes[1].axhline(0, color='k', lw=0.5, ls='--')\n",
    "axes[1].set_xlabel('Quarter')\n",
    "axes[1].set_title('Consumption, RA')\n",
    "axes[1].legend(frameon=False)\n",
    "\n",
    "plt.tight_layout()\n",
    "plt.savefig('figures/lecture8_output_ra_y_and_c.pdf', bbox_inches='tight', transparent=True)"
   ],
   "metadata": {
    "collapsed": false,
    "ExecuteTime": {
     "end_time": "2025-06-05T15:42:42.942795Z",
     "start_time": "2025-06-05T15:42:41.998561Z"
    }
   },
   "id": "34d29d6bcc0507a5",
   "execution_count": 24
  },
  {
   "cell_type": "markdown",
   "source": [
    "Next, we make the same style plot, except that we show output of the RA model left (as before) but the output of the HA model on the right."
   ],
   "metadata": {
    "collapsed": false
   },
   "id": "8d67d7bf3fe237f4"
  },
  {
   "cell_type": "code",
   "outputs": [
    {
     "data": {
      "text/plain": "<Figure size 800x400 with 2 Axes>",
      "image/png": "[encoded data removed]"
     },
     "metadata": {},
     "output_type": "display_data"
    }
   ],
   "source": [
    "fig, axes = plt.subplots(1, 2, figsize=(8, 4), sharey=True)\n",
    "\n",
    "# get three shades of red\n",
    "colors_ra = plt.cm.Reds(np.linspace(0.4, 0.8, 3)[::-1])\n",
    "colors_ha = plt.cm.Blues(np.linspace(0.4, 0.8, 3)[::-1])\n",
    "\n",
    "for i, chi in enumerate([1, 0.5, 0.05]):\n",
    "    # scale down eta and gamma so that (1-alpha) * eta + gamma = chi\n",
    "    old_chi = ss_ra['chi']\n",
    "    ss_ra_ = ss_ra.copy()\n",
    "    ss_ra_['eta'] = ss_ra['eta'] * chi / old_chi\n",
    "    ss_ra_['gamma'] = ss_ra['gamma'] * chi / old_chi\n",
    "    irfs_ra = ra.solve_impulse_linear(ss_ra_, unknowns_td, targets_td, shock)\n",
    "    \n",
    "    # solve HA model with the same shock\n",
    "    ss_ha_ = ss_ha.copy()\n",
    "    ss_ha_['eta'] = ss_ra_['eta']\n",
    "    ss_ha_['gamma'] = ss_ra_['gamma']\n",
    "    irfs_ha = ha.solve_impulse_linear(ss_ha_, unknowns_td, targets_td, shock)\n",
    "    \n",
    "    # Plot output (Y) on the left panel\n",
    "    axes[0].plot(irfs_ra['Y'][:30], label=f'$\\chi$ = {chi}', color=colors_ra[i])\n",
    "    \n",
    "    # Plot consumption (C) on the right panel\n",
    "    axes[1].plot(irfs_ha['Y'][:30], label=f'$\\chi$ = {chi}', color=colors_ha[i])\n",
    "\n",
    "# Customize left panel (Output RA)\n",
    "axes[0].axhline(0, color='k', lw=0.5, ls='--')\n",
    "axes[0].set_xlabel('Quarter')\n",
    "axes[0].set_title('Output, RA')\n",
    "axes[0].set_ylabel('\\% of GDP')\n",
    "axes[0].legend(frameon=False)\n",
    "\n",
    "# Customize right panel (Output HA)\n",
    "axes[1].axhline(0, color='k', lw=0.5, ls='--')\n",
    "axes[1].set_xlabel('Quarter')\n",
    "axes[1].set_title('Output, HA')\n",
    "axes[1].legend(frameon=False)\n",
    "\n",
    "plt.tight_layout()\n",
    "plt.savefig('figures/lecture8_output_ra_ha.pdf', bbox_inches='tight', transparent=True)"
   ],
   "metadata": {
    "collapsed": false,
    "ExecuteTime": {
     "end_time": "2025-06-05T15:42:49.821654Z",
     "start_time": "2025-06-05T15:42:42.951249Z"
    }
   },
   "id": "96847f2e90d3ae07",
   "execution_count": 25
  },
  {
   "cell_type": "markdown",
   "source": [
    "## Monetary policy shocks"
   ],
   "metadata": {
    "collapsed": false
   },
   "id": "d38ba6e669471bb6"
  },
  {
   "cell_type": "markdown",
   "source": [
    "Take the same shock path, but feed it in as shock to `r`."
   ],
   "metadata": {
    "collapsed": false
   },
   "id": "8df37d66bb58fc5c"
  },
  {
   "cell_type": "code",
   "outputs": [
    {
     "data": {
      "text/plain": "<Figure size 800x400 with 2 Axes>",
      "image/png": "[encoded data removed]"
     },
     "metadata": {},
     "output_type": "display_data"
    }
   ],
   "source": [
    "fig, axes = plt.subplots(1, 2, figsize=(8, 4), sharey=True)\n",
    "\n",
    "# Define a monetary policy shock\n",
    "dr = - 0.25 * 0.8 ** np.arange(T)  # transitory monetary policy shock\n",
    "shock = {'r': dr}\n",
    "\n",
    "# Get three shades of blue for HA\n",
    "colors_ra = plt.cm.Reds(np.linspace(0.4, 0.8, 4)[::-1])\n",
    "colors_ha = plt.cm.Blues(np.linspace(0.4, 0.8, 4)[::-1])\n",
    "\n",
    "for i, chi in enumerate([2-ss_ha['alpha'], 1, 0.5, 0.05]):\n",
    "    # Scale down eta and gamma so that (1-alpha) * eta + gamma = chi\n",
    "    old_chi = ss_ra['chi']\n",
    "    ss_ra_ = ss_ra.copy()\n",
    "    ss_ra_['eta'] = ss_ra['eta'] * chi / old_chi\n",
    "    ss_ra_['gamma'] = ss_ra['gamma'] * chi / old_chi\n",
    "    irfs_ra = ra.solve_impulse_linear(ss_ra_, unknowns_td, targets_td, shock)\n",
    "    \n",
    "    # Solve HA model with the same shock\n",
    "    ss_ha_ = ss_ha.copy()\n",
    "    ss_ha_['eta'] = ss_ra_['eta']\n",
    "    ss_ha_['gamma'] = ss_ra_['gamma']\n",
    "    irfs_ha = ha.solve_impulse_linear(ss_ha_, unknowns_td, targets_td, shock)\n",
    "    \n",
    "    # Plot output (Y RA) on the left panel\n",
    "    axes[0].plot(irfs_ra['Y'][:30], label=f'$\\chi$ = {chi}', color=colors_ra[i])\n",
    "    \n",
    "    # Plot consumption (Y HA) on the right panel\n",
    "    axes[1].plot(irfs_ha['Y'][:30], label=f'$\\chi$ = {chi}', color=colors_ha[i])\n",
    "\n",
    "# Customize left panel (Output RA)\n",
    "axes[0].axhline(0, color='k', lw=0.5, ls='--')\n",
    "axes[0].set_xlabel('Quarter')\n",
    "axes[0].set_title('Output, RA')\n",
    "axes[0].set_ylabel('\\% of GDP')\n",
    "axes[0].legend(frameon=False)\n",
    "\n",
    "# Customize right panel (Output HA)\n",
    "axes[1].axhline(0, color='k', lw=0.5, ls='--')\n",
    "axes[1].set_xlabel('Quarter')\n",
    "axes[1].set_title('Output, HA')\n",
    "axes[1].legend(frameon=False)\n",
    "\n",
    "plt.tight_layout()\n",
    "plt.savefig('figures/lecture8_monetary_shock_ra_ha.pdf', bbox_inches='tight', transparent=True)"
   ],
   "metadata": {
    "collapsed": false,
    "ExecuteTime": {
     "end_time": "2025-06-05T15:42:59.352543Z",
     "start_time": "2025-06-05T15:42:49.822301Z"
    }
   },
   "id": "bf8f127059e5d738",
   "execution_count": 26
  },
  {
   "cell_type": "code",
   "outputs": [],
   "source": [],
   "metadata": {
    "collapsed": false,
    "ExecuteTime": {
     "end_time": "2025-06-05T15:42:59.353859Z",
     "start_time": "2025-06-05T15:42:59.352954Z"
    }
   },
   "id": "ad71e46a7ed23f0f",
   "execution_count": 26
  }
 ],
 "metadata": {
  "kernelspec": {
   "display_name": "Python 3",
   "language": "python",
   "name": "python3"
  },
  "language_info": {
   "codemirror_mode": {
    "name": "ipython",
    "version": 2
   },
   "file_extension": ".py",
   "mimetype": "text/x-python",
   "name": "python",
   "nbconvert_exporter": "python",
   "pygments_lexer": "ipython2",
   "version": "2.7.6"
  }
 },
 "nbformat": 4,
 "nbformat_minor": 5
}
